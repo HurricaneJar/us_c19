{
 "cells": [
  {
   "cell_type": "code",
   "execution_count": 59,
   "id": "229191ee",
   "metadata": {},
   "outputs": [
    {
     "name": "stdout",
     "output_type": "stream",
     "text": [
      "<class 'pandas.core.frame.DataFrame'>\n",
      "RangeIndex: 285660 entries, 0 to 285659\n",
      "Data columns (total 14 columns):\n",
      " #   Column              Non-Null Count   Dtype  \n",
      "---  ------              --------------   -----  \n",
      " 0   Data As Of          285660 non-null  object \n",
      " 1   Start Date          285660 non-null  object \n",
      " 2   End Date            285660 non-null  object \n",
      " 3   Group               285660 non-null  object \n",
      " 4   Year                273240 non-null  float64\n",
      " 5   Month               248400 non-null  float64\n",
      " 6   State               285660 non-null  object \n",
      " 7   Condition Group     285660 non-null  object \n",
      " 8   Condition           285660 non-null  object \n",
      " 9   ICD10_codes         285660 non-null  object \n",
      " 10  Age Group           285660 non-null  object \n",
      " 11  COVID-19 Deaths     207662 non-null  float64\n",
      " 12  Number of Mentions  209866 non-null  float64\n",
      " 13  Flag                77998 non-null   object \n",
      "dtypes: float64(4), object(10)\n",
      "memory usage: 30.5+ MB\n"
     ]
    }
   ],
   "source": [
    "from csv import reader\n",
    "import pandas as pd\n",
    "import matplotlib.pyplot as plt\n",
    "\n",
    "covid = pd.read_csv(\"/Users/zachpolitz/Desktop/Conditions_Contributing_to_COVID-19_Deaths__by_State_and_Age__Provisional_2020-2021.csv\")\n",
    "headers = covid.columns\n",
    "c_info = covid.info()"
   ]
  },
  {
   "cell_type": "markdown",
   "id": "3767193c",
   "metadata": {},
   "source": [
    "Intention: Patterns of Exploration\n",
    "Bring something back to the real world. Practice visualizations. Go beyond nationwide analysis\n",
    "\n",
    "Are these data trustworthy? Where are these data vulnerable? \n",
    "        Do I know what each column is about?\n",
    "            - ICD10 and Conditions\n",
    "            - Condition Group\n",
    "            - Number of Mentions\n",
    "            - Start Date/End Date\n",
    "        Where are the gaps in reporting? \n",
    "            - Null proportions: stacked bar chart   \n",
    "                age groups\n",
    "                conditions\n",
    "                by state \n",
    "                by year\n",
    "                by month\n",
    "        Nationwide counts versus sum of states: \n",
    "            - Table \n",
    "        Reporting methodology: \n",
    "            - Condition:Age_Group profile by state\n",
    "                horizontal stacked bar (x:conds_stacked y:age)\n",
    "            - Does an individual death with multiple associated conditions get counted multiple times; \n",
    "              Does a given death only get associated with one condition?\n",
    "            \n",
    "   ^^ What would it take to complete this analysis in one day?"
   ]
  },
  {
   "cell_type": "code",
   "execution_count": 60,
   "id": "1c34662f",
   "metadata": {},
   "outputs": [],
   "source": [
    "dict_column_series = {}\n",
    "for row in headers:\n",
    "    dict_column_series[row] = covid[row]"
   ]
  },
  {
   "cell_type": "code",
   "execution_count": null,
   "id": "95d8bccb",
   "metadata": {},
   "outputs": [],
   "source": [
    "twenty_year = covid[ (covid[\"Year\"] == 2020)&(covid['Group'] == 'By Year') ].copy()\n",
    "twentyone_year = covid.loc[ (covid[\"Year\"] == 2021)&(covid['Group'] == 'By Year') ].copy()\n",
    "twenty_month = covid.loc[ (covid[\"Year\"] == 2020)&(covid['Group'] == 'By Month') ].copy()\n",
    "twentyone_month = covid.loc[ (covid[\"Year\"] == 2021)&(covid['Group'] == 'By Month') ].copy()\n",
    "\n",
    "\n",
    "twenty_year.info()\n",
    "print('\\n')\n",
    "twentyone_year.info()\n",
    "print('\\n')\n",
    "twenty_month.info()\n",
    "print('\\n')\n",
    "twentyone_month.info()"
   ]
  },
  {
   "cell_type": "markdown",
   "id": "059ec21e",
   "metadata": {},
   "source": [
    "Plot null count across year and group type."
   ]
  },
  {
   "cell_type": "code",
   "execution_count": 103,
   "id": "cca310e1",
   "metadata": {},
   "outputs": [
    {
     "name": "stdout",
     "output_type": "stream",
     "text": [
      "[0.2144122383252818, 0.22930756843800323, 0.24917471819645734, 0.3326388888888889]\n",
      "[12420, 12420, 149040, 99360]\n",
      "[2663, 2848, 37137, 33051]\n"
     ]
    },
    {
     "name": "stderr",
     "output_type": "stream",
     "text": [
      "<ipython-input-103-a782025a036d>:30: UserWarning: FixedFormatter should only be used together with FixedLocator\n",
      "  ax.set_xticklabels(graph_labels)\n"
     ]
    },
    {
     "data": {
      "text/plain": [
       "[Text(0, 0, 'twenty_year: .214'),\n",
       " Text(1, 0, 'twentyone_year: .229'),\n",
       " Text(2, 0, 'twenty_month: .249'),\n",
       " Text(3, 0, 'twentyone_month: .333')]"
      ]
     },
     "execution_count": 103,
     "metadata": {},
     "output_type": "execute_result"
    },
    {
     "data": {
      "image/png": "[encoded data removed]",
      "text/plain": [
       "<Figure size 864x432 with 1 Axes>"
      ]
     },
     "metadata": {
      "needs_background": "light"
     },
     "output_type": "display_data"
    }
   ],
   "source": [
    "fig, ax = plt.subplots(ncols = 1, nrows = 1, figsize = (12,6))\n",
    "set = {'twenty_year':[12420,(12420-9757)], \n",
    "        'twentyone_year':[12420,(12420-9572)], \n",
    "        'twenty_month':[149040,(149040-111903)], \n",
    "        'twentyone_month':[99360,(99360-66309)]}\n",
    "\n",
    "s_labels = ['twenty_year', 'twentyone_year', 'twenty_month', 'twentyone_month']\n",
    "\n",
    "s_base = []\n",
    "s_top = []\n",
    "s_range = []\n",
    "\n",
    "proportion = []\n",
    "for row in s_labels:\n",
    "    x = set[row]\n",
    "    s_base.append(x[0])\n",
    "    s_top.append(x[1])\n",
    "    s_range.append(x[0]-x[1])\n",
    "    proportion.append(x[1]/x[0])\n",
    "    \n",
    "print(proportion)\n",
    "print(s_base)    \n",
    "print(s_top)\n",
    "\n",
    "\n",
    "graph_labels = ['twenty_year: .214', 'twentyone_year: .229', 'twenty_month: .249', 'twentyone_month: .333']\n",
    "\n",
    "ax.bar(x=s_labels, height = s_base)\n",
    "ax.bar(x=s_labels, height = s_top, bottom = (s_range))\n",
    "ax.set_xticklabels(graph_labels)"
   ]
  },
  {
   "cell_type": "markdown",
   "id": "6cadff02",
   "metadata": {},
   "source": [
    "Compare 'United States' death count versus the sum of each state's counts."
   ]
  },
  {
   "cell_type": "code",
   "execution_count": 98,
   "id": "367ffa2f",
   "metadata": {},
   "outputs": [
    {
     "name": "stdout",
     "output_type": "stream",
     "text": [
      "['20_annual', '21_annual', '20_month', '21_month']\n",
      "[2858166.0, 1830096.0, 2858166.0, 1830096.0, 2860933.0, 1827201.0, 2748782.0, 1731353.0]\n"
     ]
    },
    {
     "data": {
      "image/png": "[encoded data removed]",
      "text/plain": [
       "<Figure size 864x432 with 1 Axes>"
      ]
     },
     "metadata": {
      "needs_background": "light"
     },
     "output_type": "display_data"
    }
   ],
   "source": [
    "US20_annual = twenty_year[twenty_year['State'] == 'United States'].copy()\n",
    "\n",
    "US21_annual = twentyone_year[twentyone_year['State'] == 'United States'].copy()\n",
    "US20_month = twenty_month[twenty_month['State'] == 'United States'].copy()\n",
    "US21_month = twentyone_month[twentyone_month['State'] == 'United States'].copy()\n",
    "\n",
    "sum20_annual = twenty_year[twenty_year['State'] != 'United States'].copy()\n",
    "sum21_annual = twentyone_year[twentyone_year['State'] != 'United States'].copy()\n",
    "sum20_month = twenty_month[twenty_month['State'] != 'United States'].copy()\n",
    "sum21_month = twentyone_month[twentyone_month['State'] != 'United States'].copy()\n",
    "\n",
    "labels = ['20_annual', '21_annual','20_month', '21_month']\n",
    "\n",
    "US_deaths = [US20_annual['COVID-19 Deaths'].sum(), \n",
    "          US21_annual['COVID-19 Deaths'].sum(),\n",
    "          US20_month['COVID-19 Deaths'].sum(),\n",
    "          US21_month['COVID-19 Deaths'].sum()]\n",
    "sum_deaths = [sum20_annual['COVID-19 Deaths'].sum(),\n",
    "          sum21_annual['COVID-19 Deaths'].sum(),\n",
    "          sum20_month['COVID-19 Deaths'].sum(),\n",
    "          sum21_month['COVID-19 Deaths'].sum()]\n",
    "\n",
    "fig, ax = plt.subplots(ncols = 1, nrows = 1, figsize = (12,6))\n",
    "ax.bar(x = labels, height = US_deaths, width = -.35, align = 'edge', label = 'US')\n",
    "ax.bar(x = labels, height = sum_deaths, width = .35, align = 'edge', label = 'Sum of States')\n",
    "ax.legend()\n",
    "\n",
    "print(labels)\n",
    "print(deaths)\n",
    "# side-by-side bar charts\n",
    "# isolate deaths"
   ]
  },
  {
   "cell_type": "code",
   "execution_count": null,
   "id": "f9e96ea5",
   "metadata": {},
   "outputs": [],
   "source": []
  }
 ],
 "metadata": {
  "kernelspec": {
   "display_name": "Python 3",
   "language": "python",
   "name": "python3"
  },
  "language_info": {
   "codemirror_mode": {
    "name": "ipython",
    "version": 3
   },
   "file_extension": ".py",
   "mimetype": "text/x-python",
   "name": "python",
   "nbconvert_exporter": "python",
   "pygments_lexer": "ipython3",
   "version": "3.8.8"
  }
 },
 "nbformat": 4,
 "nbformat_minor": 5
}
